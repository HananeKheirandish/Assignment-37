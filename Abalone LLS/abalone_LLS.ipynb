{
 "cells": [
  {
   "cell_type": "code",
   "execution_count": 11,
   "id": "3da9e3bd",
   "metadata": {},
   "outputs": [],
   "source": [
    "import numpy as np\n",
    "from numpy.linalg import inv\n",
    "import pandas as pd\n",
    "from sklearn.model_selection import train_test_split"
   ]
  },
  {
   "cell_type": "code",
   "execution_count": 12,
   "id": "73fa481a",
   "metadata": {},
   "outputs": [
    {
     "data": {
      "text/html": [
       "<div>\n",
       "<style scoped>\n",
       "    .dataframe tbody tr th:only-of-type {\n",
       "        vertical-align: middle;\n",
       "    }\n",
       "\n",
       "    .dataframe tbody tr th {\n",
       "        vertical-align: top;\n",
       "    }\n",
       "\n",
       "    .dataframe thead th {\n",
       "        text-align: right;\n",
       "    }\n",
       "</style>\n",
       "<table border=\"1\" class=\"dataframe\">\n",
       "  <thead>\n",
       "    <tr style=\"text-align: right;\">\n",
       "      <th></th>\n",
       "      <th>M</th>\n",
       "      <th>0.455</th>\n",
       "      <th>0.365</th>\n",
       "      <th>0.095</th>\n",
       "      <th>0.514</th>\n",
       "      <th>0.2245</th>\n",
       "      <th>0.101</th>\n",
       "      <th>0.15</th>\n",
       "      <th>15</th>\n",
       "    </tr>\n",
       "  </thead>\n",
       "  <tbody>\n",
       "    <tr>\n",
       "      <th>0</th>\n",
       "      <td>M</td>\n",
       "      <td>0.350</td>\n",
       "      <td>0.265</td>\n",
       "      <td>0.090</td>\n",
       "      <td>0.2255</td>\n",
       "      <td>0.0995</td>\n",
       "      <td>0.0485</td>\n",
       "      <td>0.070</td>\n",
       "      <td>7</td>\n",
       "    </tr>\n",
       "    <tr>\n",
       "      <th>1</th>\n",
       "      <td>F</td>\n",
       "      <td>0.530</td>\n",
       "      <td>0.420</td>\n",
       "      <td>0.135</td>\n",
       "      <td>0.6770</td>\n",
       "      <td>0.2565</td>\n",
       "      <td>0.1415</td>\n",
       "      <td>0.210</td>\n",
       "      <td>9</td>\n",
       "    </tr>\n",
       "    <tr>\n",
       "      <th>2</th>\n",
       "      <td>M</td>\n",
       "      <td>0.440</td>\n",
       "      <td>0.365</td>\n",
       "      <td>0.125</td>\n",
       "      <td>0.5160</td>\n",
       "      <td>0.2155</td>\n",
       "      <td>0.1140</td>\n",
       "      <td>0.155</td>\n",
       "      <td>10</td>\n",
       "    </tr>\n",
       "    <tr>\n",
       "      <th>3</th>\n",
       "      <td>I</td>\n",
       "      <td>0.330</td>\n",
       "      <td>0.255</td>\n",
       "      <td>0.080</td>\n",
       "      <td>0.2050</td>\n",
       "      <td>0.0895</td>\n",
       "      <td>0.0395</td>\n",
       "      <td>0.055</td>\n",
       "      <td>7</td>\n",
       "    </tr>\n",
       "    <tr>\n",
       "      <th>4</th>\n",
       "      <td>I</td>\n",
       "      <td>0.425</td>\n",
       "      <td>0.300</td>\n",
       "      <td>0.095</td>\n",
       "      <td>0.3515</td>\n",
       "      <td>0.1410</td>\n",
       "      <td>0.0775</td>\n",
       "      <td>0.120</td>\n",
       "      <td>8</td>\n",
       "    </tr>\n",
       "  </tbody>\n",
       "</table>\n",
       "</div>"
      ],
      "text/plain": [
       "   M  0.455  0.365  0.095   0.514  0.2245   0.101   0.15  15\n",
       "0  M  0.350  0.265  0.090  0.2255  0.0995  0.0485  0.070   7\n",
       "1  F  0.530  0.420  0.135  0.6770  0.2565  0.1415  0.210   9\n",
       "2  M  0.440  0.365  0.125  0.5160  0.2155  0.1140  0.155  10\n",
       "3  I  0.330  0.255  0.080  0.2050  0.0895  0.0395  0.055   7\n",
       "4  I  0.425  0.300  0.095  0.3515  0.1410  0.0775  0.120   8"
      ]
     },
     "execution_count": 12,
     "metadata": {},
     "output_type": "execute_result"
    }
   ],
   "source": [
    "data = pd.read_csv('abalone.csv')\n",
    "data.head()"
   ]
  },
  {
   "cell_type": "code",
   "execution_count": 13,
   "id": "5b0657a1",
   "metadata": {},
   "outputs": [
    {
     "data": {
      "text/html": [
       "<div>\n",
       "<style scoped>\n",
       "    .dataframe tbody tr th:only-of-type {\n",
       "        vertical-align: middle;\n",
       "    }\n",
       "\n",
       "    .dataframe tbody tr th {\n",
       "        vertical-align: top;\n",
       "    }\n",
       "\n",
       "    .dataframe thead th {\n",
       "        text-align: right;\n",
       "    }\n",
       "</style>\n",
       "<table border=\"1\" class=\"dataframe\">\n",
       "  <thead>\n",
       "    <tr style=\"text-align: right;\">\n",
       "      <th></th>\n",
       "      <th>Sex</th>\n",
       "      <th>Length</th>\n",
       "      <th>Diameter</th>\n",
       "      <th>Height</th>\n",
       "      <th>Whole weight</th>\n",
       "      <th>Shucked weight</th>\n",
       "      <th>Viscera weight</th>\n",
       "      <th>Shell weight</th>\n",
       "      <th>Rings</th>\n",
       "    </tr>\n",
       "  </thead>\n",
       "  <tbody>\n",
       "    <tr>\n",
       "      <th>0</th>\n",
       "      <td>M</td>\n",
       "      <td>0.350</td>\n",
       "      <td>0.265</td>\n",
       "      <td>0.090</td>\n",
       "      <td>0.2255</td>\n",
       "      <td>0.0995</td>\n",
       "      <td>0.0485</td>\n",
       "      <td>0.070</td>\n",
       "      <td>7</td>\n",
       "    </tr>\n",
       "    <tr>\n",
       "      <th>1</th>\n",
       "      <td>F</td>\n",
       "      <td>0.530</td>\n",
       "      <td>0.420</td>\n",
       "      <td>0.135</td>\n",
       "      <td>0.6770</td>\n",
       "      <td>0.2565</td>\n",
       "      <td>0.1415</td>\n",
       "      <td>0.210</td>\n",
       "      <td>9</td>\n",
       "    </tr>\n",
       "    <tr>\n",
       "      <th>2</th>\n",
       "      <td>M</td>\n",
       "      <td>0.440</td>\n",
       "      <td>0.365</td>\n",
       "      <td>0.125</td>\n",
       "      <td>0.5160</td>\n",
       "      <td>0.2155</td>\n",
       "      <td>0.1140</td>\n",
       "      <td>0.155</td>\n",
       "      <td>10</td>\n",
       "    </tr>\n",
       "    <tr>\n",
       "      <th>3</th>\n",
       "      <td>I</td>\n",
       "      <td>0.330</td>\n",
       "      <td>0.255</td>\n",
       "      <td>0.080</td>\n",
       "      <td>0.2050</td>\n",
       "      <td>0.0895</td>\n",
       "      <td>0.0395</td>\n",
       "      <td>0.055</td>\n",
       "      <td>7</td>\n",
       "    </tr>\n",
       "    <tr>\n",
       "      <th>4</th>\n",
       "      <td>I</td>\n",
       "      <td>0.425</td>\n",
       "      <td>0.300</td>\n",
       "      <td>0.095</td>\n",
       "      <td>0.3515</td>\n",
       "      <td>0.1410</td>\n",
       "      <td>0.0775</td>\n",
       "      <td>0.120</td>\n",
       "      <td>8</td>\n",
       "    </tr>\n",
       "  </tbody>\n",
       "</table>\n",
       "</div>"
      ],
      "text/plain": [
       "  Sex  Length  Diameter  Height  Whole weight  Shucked weight  Viscera weight  \\\n",
       "0   M   0.350     0.265   0.090        0.2255          0.0995          0.0485   \n",
       "1   F   0.530     0.420   0.135        0.6770          0.2565          0.1415   \n",
       "2   M   0.440     0.365   0.125        0.5160          0.2155          0.1140   \n",
       "3   I   0.330     0.255   0.080        0.2050          0.0895          0.0395   \n",
       "4   I   0.425     0.300   0.095        0.3515          0.1410          0.0775   \n",
       "\n",
       "   Shell weight  Rings  \n",
       "0         0.070      7  \n",
       "1         0.210      9  \n",
       "2         0.155     10  \n",
       "3         0.055      7  \n",
       "4         0.120      8  "
      ]
     },
     "execution_count": 13,
     "metadata": {},
     "output_type": "execute_result"
    }
   ],
   "source": [
    "data.columns = [\"Sex\",\"Length\",\"Diameter\",\"Height\",\"Whole weight\",\n",
    "                   \"Shucked weight\",\"Viscera weight\",\"Shell weight\",\"Rings\"]\n",
    "data.head()"
   ]
  },
  {
   "cell_type": "code",
   "execution_count": 19,
   "id": "3300cb5a",
   "metadata": {},
   "outputs": [],
   "source": [
    "X = data[[\"Length\",\"Diameter\",\"Height\",\"Whole weight\",\n",
    "                   \"Shucked weight\",\"Viscera weight\",\"Shell weight\"]].values\n",
    "Y = data[[\"Rings\"]].values"
   ]
  },
  {
   "cell_type": "code",
   "execution_count": 20,
   "id": "425747c4",
   "metadata": {},
   "outputs": [
    {
     "data": {
      "text/html": [
       "<div>\n",
       "<style scoped>\n",
       "    .dataframe tbody tr th:only-of-type {\n",
       "        vertical-align: middle;\n",
       "    }\n",
       "\n",
       "    .dataframe tbody tr th {\n",
       "        vertical-align: top;\n",
       "    }\n",
       "\n",
       "    .dataframe thead th {\n",
       "        text-align: right;\n",
       "    }\n",
       "</style>\n",
       "<table border=\"1\" class=\"dataframe\">\n",
       "  <thead>\n",
       "    <tr style=\"text-align: right;\">\n",
       "      <th></th>\n",
       "      <th>Length</th>\n",
       "      <th>Diameter</th>\n",
       "      <th>Height</th>\n",
       "      <th>Whole weight</th>\n",
       "      <th>Shucked weight</th>\n",
       "      <th>Viscera weight</th>\n",
       "      <th>Shell weight</th>\n",
       "      <th>Rings</th>\n",
       "    </tr>\n",
       "  </thead>\n",
       "  <tbody>\n",
       "    <tr>\n",
       "      <th>Length</th>\n",
       "      <td>1.000000</td>\n",
       "      <td>0.986813</td>\n",
       "      <td>0.827552</td>\n",
       "      <td>0.925255</td>\n",
       "      <td>0.897905</td>\n",
       "      <td>0.903010</td>\n",
       "      <td>0.897697</td>\n",
       "      <td>0.557123</td>\n",
       "    </tr>\n",
       "    <tr>\n",
       "      <th>Diameter</th>\n",
       "      <td>0.986813</td>\n",
       "      <td>1.000000</td>\n",
       "      <td>0.833705</td>\n",
       "      <td>0.925452</td>\n",
       "      <td>0.893159</td>\n",
       "      <td>0.899726</td>\n",
       "      <td>0.905328</td>\n",
       "      <td>0.575005</td>\n",
       "    </tr>\n",
       "    <tr>\n",
       "      <th>Height</th>\n",
       "      <td>0.827552</td>\n",
       "      <td>0.833705</td>\n",
       "      <td>1.000000</td>\n",
       "      <td>0.819209</td>\n",
       "      <td>0.774957</td>\n",
       "      <td>0.798293</td>\n",
       "      <td>0.817326</td>\n",
       "      <td>0.558109</td>\n",
       "    </tr>\n",
       "    <tr>\n",
       "      <th>Whole weight</th>\n",
       "      <td>0.925255</td>\n",
       "      <td>0.925452</td>\n",
       "      <td>0.819209</td>\n",
       "      <td>1.000000</td>\n",
       "      <td>0.969403</td>\n",
       "      <td>0.966372</td>\n",
       "      <td>0.955351</td>\n",
       "      <td>0.540818</td>\n",
       "    </tr>\n",
       "    <tr>\n",
       "      <th>Shucked weight</th>\n",
       "      <td>0.897905</td>\n",
       "      <td>0.893159</td>\n",
       "      <td>0.774957</td>\n",
       "      <td>0.969403</td>\n",
       "      <td>1.000000</td>\n",
       "      <td>0.931956</td>\n",
       "      <td>0.882606</td>\n",
       "      <td>0.421256</td>\n",
       "    </tr>\n",
       "    <tr>\n",
       "      <th>Viscera weight</th>\n",
       "      <td>0.903010</td>\n",
       "      <td>0.899726</td>\n",
       "      <td>0.798293</td>\n",
       "      <td>0.966372</td>\n",
       "      <td>0.931956</td>\n",
       "      <td>1.000000</td>\n",
       "      <td>0.907647</td>\n",
       "      <td>0.504274</td>\n",
       "    </tr>\n",
       "    <tr>\n",
       "      <th>Shell weight</th>\n",
       "      <td>0.897697</td>\n",
       "      <td>0.905328</td>\n",
       "      <td>0.817326</td>\n",
       "      <td>0.955351</td>\n",
       "      <td>0.882606</td>\n",
       "      <td>0.907647</td>\n",
       "      <td>1.000000</td>\n",
       "      <td>0.628031</td>\n",
       "    </tr>\n",
       "    <tr>\n",
       "      <th>Rings</th>\n",
       "      <td>0.557123</td>\n",
       "      <td>0.575005</td>\n",
       "      <td>0.558109</td>\n",
       "      <td>0.540818</td>\n",
       "      <td>0.421256</td>\n",
       "      <td>0.504274</td>\n",
       "      <td>0.628031</td>\n",
       "      <td>1.000000</td>\n",
       "    </tr>\n",
       "  </tbody>\n",
       "</table>\n",
       "</div>"
      ],
      "text/plain": [
       "                  Length  Diameter    Height  Whole weight  Shucked weight  \\\n",
       "Length          1.000000  0.986813  0.827552      0.925255        0.897905   \n",
       "Diameter        0.986813  1.000000  0.833705      0.925452        0.893159   \n",
       "Height          0.827552  0.833705  1.000000      0.819209        0.774957   \n",
       "Whole weight    0.925255  0.925452  0.819209      1.000000        0.969403   \n",
       "Shucked weight  0.897905  0.893159  0.774957      0.969403        1.000000   \n",
       "Viscera weight  0.903010  0.899726  0.798293      0.966372        0.931956   \n",
       "Shell weight    0.897697  0.905328  0.817326      0.955351        0.882606   \n",
       "Rings           0.557123  0.575005  0.558109      0.540818        0.421256   \n",
       "\n",
       "                Viscera weight  Shell weight     Rings  \n",
       "Length                0.903010      0.897697  0.557123  \n",
       "Diameter              0.899726      0.905328  0.575005  \n",
       "Height                0.798293      0.817326  0.558109  \n",
       "Whole weight          0.966372      0.955351  0.540818  \n",
       "Shucked weight        0.931956      0.882606  0.421256  \n",
       "Viscera weight        1.000000      0.907647  0.504274  \n",
       "Shell weight          0.907647      1.000000  0.628031  \n",
       "Rings                 0.504274      0.628031  1.000000  "
      ]
     },
     "execution_count": 20,
     "metadata": {},
     "output_type": "execute_result"
    }
   ],
   "source": [
    "corr = data.corr()\n",
    "corr"
   ]
  },
  {
   "cell_type": "code",
   "execution_count": 25,
   "id": "1b27516c",
   "metadata": {},
   "outputs": [],
   "source": [
    "X_train, X_test, Y_train, Y_test = train_test_split(X, Y)"
   ]
  },
  {
   "cell_type": "code",
   "execution_count": 40,
   "id": "40f8be82",
   "metadata": {},
   "outputs": [],
   "source": [
    "class LinearLeastSquare:\n",
    "    def __init__(self):\n",
    "        pass\n",
    "    \n",
    "    #train\n",
    "    def fit(self, X, Y):\n",
    "        # w= شیب خط\n",
    "        # w = (X.T X)^-1 * X.T Y\n",
    "        self.w = np.matmul(inv(np.matmul(X.T, X)), np.matmul(X.T, Y))\n",
    "        \n",
    "    def predict(self, x):\n",
    "        ring_pred = np.matmul(x,self.w)\n",
    "        return ring_pred\n",
    "    \n",
    "    def evaluate(self, X, Y, loss='MAE'):\n",
    "        Y_pred = []\n",
    "        for i in range(X.shape[0]):\n",
    "            y_pred = self.predict(X[i])\n",
    "            Y_pred.append(y_pred)\n",
    "            \n",
    "        Y_pred = np.array(Y_pred)\n",
    "        \n",
    "        Error = Y - Y_pred\n",
    "        \n",
    "        if loss == 'MAE':\n",
    "            return np.mean(np.abs(Error))\n",
    "        elif loss == 'MSE':\n",
    "            return np.mean(Error ** 2)\n",
    "        elif loss == 'Huber':\n",
    "            d = 1\n",
    "            huber_mse = 0.5*(Error**2)\n",
    "            huber_mae = d * (np.abs(Error) - 0.5 * d)\n",
    "            return np.where(np.abs(Error) <= d, huber_mse, huber_mae)\n",
    "        elif loss == 'Hinge':\n",
    "            new_predicted = np.array([-1 if i==0 else i for i in Y_pred])\n",
    "    \n",
    "            # calculating hinge loss\n",
    "            hinge_loss = np.mean([max(0, 1-x*y) for x, y in zip(Y, new_predicted)])\n",
    "            return hinge_loss"
   ]
  },
  {
   "cell_type": "code",
   "execution_count": 41,
   "id": "b36565c1",
   "metadata": {},
   "outputs": [],
   "source": [
    "lls = LinearLeastSquare()\n",
    "lls.fit(X_train, Y_train)"
   ]
  },
  {
   "cell_type": "code",
   "execution_count": 42,
   "id": "917f32cd",
   "metadata": {},
   "outputs": [
    {
     "data": {
      "text/plain": [
       "array([[  7.266131  ],\n",
       "       [ 12.64932552],\n",
       "       [ 12.33904124],\n",
       "       [  8.32067073],\n",
       "       [-21.08555616],\n",
       "       [-10.33974378],\n",
       "       [  7.23507357]])"
      ]
     },
     "execution_count": 42,
     "metadata": {},
     "output_type": "execute_result"
    }
   ],
   "source": [
    "lls.w"
   ]
  },
  {
   "cell_type": "code",
   "execution_count": 43,
   "id": "7d425662",
   "metadata": {},
   "outputs": [],
   "source": [
    "y_pred = lls.predict(X_test)"
   ]
  },
  {
   "cell_type": "code",
   "execution_count": 45,
   "id": "e295b967",
   "metadata": {},
   "outputs": [
    {
     "name": "stdout",
     "output_type": "stream",
     "text": [
      "MAE =  1.6653763210087427\n"
     ]
    }
   ],
   "source": [
    "MAE = lls.evaluate(X_test, Y_test)\n",
    "print('MAE = ', MAE)"
   ]
  },
  {
   "cell_type": "code",
   "execution_count": 46,
   "id": "238c1694",
   "metadata": {},
   "outputs": [
    {
     "name": "stdout",
     "output_type": "stream",
     "text": [
      "MSE =  5.0789038966266595\n"
     ]
    }
   ],
   "source": [
    "MSE = lls.evaluate(X_test, Y_test, loss='MSE')\n",
    "print('MSE = ', MSE)"
   ]
  },
  {
   "cell_type": "code",
   "execution_count": 47,
   "id": "37b9ee92",
   "metadata": {},
   "outputs": [
    {
     "name": "stdout",
     "output_type": "stream",
     "text": [
      "Huber =  [[1.2346156 ]\n",
      " [2.5575993 ]\n",
      " [1.70743613]\n",
      " ...\n",
      " [0.63544768]\n",
      " [0.90074112]\n",
      " [1.66355283]]\n"
     ]
    }
   ],
   "source": [
    "Huber = lls.evaluate(X_test, Y_test, loss='Huber')\n",
    "print('Huber = ', Huber)"
   ]
  },
  {
   "cell_type": "code",
   "execution_count": 48,
   "id": "798447cc",
   "metadata": {},
   "outputs": [
    {
     "name": "stdout",
     "output_type": "stream",
     "text": [
      "Hinge =  [0.01148347]\n"
     ]
    },
    {
     "name": "stderr",
     "output_type": "stream",
     "text": [
      "c:\\users\\admin\\appdata\\local\\programs\\python\\python38\\lib\\site-packages\\numpy\\core\\_methods.py:163: VisibleDeprecationWarning: Creating an ndarray from ragged nested sequences (which is a list-or-tuple of lists-or-tuples-or ndarrays with different lengths or shapes) is deprecated. If you meant to do this, you must specify 'dtype=object' when creating the ndarray.\n",
      "  arr = asanyarray(a)\n"
     ]
    }
   ],
   "source": [
    "Hinge = lls.evaluate(X_test, Y_test, loss='Hinge')\n",
    "print('Hinge = ', Hinge)"
   ]
  },
  {
   "cell_type": "code",
   "execution_count": null,
   "id": "901bec38",
   "metadata": {},
   "outputs": [],
   "source": []
  }
 ],
 "metadata": {
  "kernelspec": {
   "display_name": "Python 3 (ipykernel)",
   "language": "python",
   "name": "python3"
  },
  "language_info": {
   "codemirror_mode": {
    "name": "ipython",
    "version": 3
   },
   "file_extension": ".py",
   "mimetype": "text/x-python",
   "name": "python",
   "nbconvert_exporter": "python",
   "pygments_lexer": "ipython3",
   "version": "3.8.9"
  }
 },
 "nbformat": 4,
 "nbformat_minor": 5
}
